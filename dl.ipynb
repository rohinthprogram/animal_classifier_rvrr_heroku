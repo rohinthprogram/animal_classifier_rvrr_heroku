{
 "cells": [
  {
   "cell_type": "code",
   "execution_count": 2,
   "metadata": {},
   "outputs": [],
   "source": [
    "#loading necessary modules\n",
    "import cv2\n",
    "import os\n",
    "import numpy as np\n",
    "\n",
    "import matplotlib.pyplot as plt\n",
    "\n",
    "from sklearn.model_selection import train_test_split\n",
    "\n",
    "import keras\n",
    "from keras.utils import np_utils\n",
    "from keras.models import Sequential, load_model\n",
    "from keras.layers import Conv2D, MaxPooling2D, Flatten, Dense"
   ]
  },
  {
   "cell_type": "code",
   "execution_count": 3,
   "metadata": {},
   "outputs": [
    {
     "data": {
      "text/plain": [
       "['equus-quagga',\n",
       " 'panthera-leo',\n",
       " 'panthera-onca',\n",
       " 'ursus-arctos-horribilis',\n",
       " 'megaptera-novaeangliae',\n",
       " 'panthera-tigris',\n",
       " 'haliaeetus-leucocephalus',\n",
       " 'tyrannosaurus-rex',\n",
       " 'diplodocus',\n",
       " 'panthera-pardus',\n",
       " 'homo-sapiens',\n",
       " 'phoebetria-fusca',\n",
       " 'bos-taurus',\n",
       " 'gallus-gallus-domesticus',\n",
       " 'ovis-aries',\n",
       " 'ceratotherium-simum',\n",
       " 'loxodonta-africana',\n",
       " 'tursiops-truncatus',\n",
       " 'orcinus-orca',\n",
       " 'carcharodon-carcharias',\n",
       " 'canis-lupus-familiaris',\n",
       " 'felis-catus',\n",
       " 'salmo-salar',\n",
       " 'balaenoptera-musculus',\n",
       " 'giraffa-camelopardalis',\n",
       " 'ophiophagus-hannah',\n",
       " 'crotalus-atrox',\n",
       " 'varanus-komodoensis',\n",
       " 'pterois-mombasae',\n",
       " 'spinosaurus-aegyptiacus',\n",
       " 'crocodylus-niloticus',\n",
       " 'falco-peregrinus',\n",
       " 'gorilla-gorilla',\n",
       " 'pongo-abelii',\n",
       " 'gavialis-gangeticus',\n",
       " 'acinonyx-jubatus',\n",
       " 'canis-lupus',\n",
       " 'ursus-maritimus',\n",
       " 'hippopotamus-amphibius',\n",
       " 'iguana-iguana',\n",
       " 'iguanodon-bernissartensis',\n",
       " 'stegosaurus-stenops',\n",
       " 'triceratops-horridus',\n",
       " 'pteranodon-longiceps',\n",
       " 'ankylosaurus-magniventris',\n",
       " 'agalychnis-callidryas',\n",
       " 'dendrobatidae',\n",
       " 'mellisuga-helenae',\n",
       " 'eudocimus-albus',\n",
       " 'sphyrna-mokarran',\n",
       " 'trilobita',\n",
       " 'enteroctopus-dofleini',\n",
       " 'coelacanthiformes',\n",
       " 'equus-caballus',\n",
       " 'odobenus-rosmarus',\n",
       " 'physeter-macrocephalus',\n",
       " 'dugong-dugon',\n",
       " 'eunectes-murinus',\n",
       " 'malayopython-reticulatus',\n",
       " 'rattus-rattus',\n",
       " 'ornithorhynchus-anatinus',\n",
       " 'desmodus-rotundus',\n",
       " 'taurotragus-oryx',\n",
       " 'connochaetes-gnou',\n",
       " 'puma-concolor',\n",
       " 'formicidae',\n",
       " 'danaus-plexippus',\n",
       " 'papilio-glaucus',\n",
       " 'heterocera',\n",
       " 'dermochelys-coriacea',\n",
       " 'lampropeltis-triangulum',\n",
       " 'heloderma-suspectum',\n",
       " 'macropus-giganteus',\n",
       " 'ailuropoda-melanoleuca',\n",
       " 'ailurus-fulgens',\n",
       " 'procyon-lotor',\n",
       " 'smilodon-populator',\n",
       " 'mammuthus-primigeniu',\n",
       " 'tapirus',\n",
       " 'bison-bison',\n",
       " 'alces-alces',\n",
       " 'aptenodytes-forsteri',\n",
       " 'hydrurga-leptonyx',\n",
       " 'bradypus-variegatus',\n",
       " 'sciurus-carolinensis',\n",
       " 'cyanocitta-cristata',\n",
       " 'periplaneta-americana',\n",
       " 'anas-platyrhynchos',\n",
       " 'pavo-cristatus',\n",
       " 'ara-macao',\n",
       " 'enhydra-lutris',\n",
       " 'physalia-physalis',\n",
       " 'codium-fragile',\n",
       " 'centruroides-vittatus',\n",
       " 'lemur-catta',\n",
       " 'delphinapterus-leucas',\n",
       " 'inia-geoffrensis',\n",
       " 'phascolarctos-cinereus',\n",
       " 'spheniscus-demersus',\n",
       " 'aquila-chrysaetos',\n",
       " 'branta-canadensis',\n",
       " 'turdus-migratorius',\n",
       " 'passerina-ciris',\n",
       " 'geococcyx-californianus',\n",
       " 'icterus-galbula',\n",
       " 'icterus-spurius',\n",
       " 'crotophaga-sulcirostris',\n",
       " 'monodon-monoceros',\n",
       " 'struthio-camelus',\n",
       " 'ardea-herodias',\n",
       " 'phoenicopterus-ruber',\n",
       " 'okapia-johnstoni',\n",
       " 'cryptoprocta-ferox',\n",
       " 'cardinalis-cardinalis',\n",
       " 'apis-mellifera',\n",
       " 'telmatobufo-bullocki',\n",
       " 'architeuthis-dux',\n",
       " 'agkistrodon-contortrix',\n",
       " 'eidolon-helvum',\n",
       " 'ceratitis-capitata',\n",
       " 'musca-domestica',\n",
       " 'thryothorus-ludovicianus',\n",
       " 'rusa-unicolor',\n",
       " 'bos-gaurus',\n",
       " 'vultur-gryphus',\n",
       " 'aethia-cristatella',\n",
       " 'mimus-polyglottos',\n",
       " 'cathartes-aura',\n",
       " 'poecile-atricapillus',\n",
       " 'mergus-serrator',\n",
       " 'colaptes-auratus',\n",
       " 'circus-hudsonius',\n",
       " 'tyrannus-tyrannus',\n",
       " 'betta-splendens',\n",
       " 'pterois-volitans',\n",
       " 'phyllobates-terribilis',\n",
       " 'hapalochlaena-maculosa',\n",
       " 'ovis-canadensis',\n",
       " 'vulpes-vulpes',\n",
       " 'lepus-americanus',\n",
       " 'dasypus-novemcinctus',\n",
       " 'martes-americana',\n",
       " 'tarsius-pumilus',\n",
       " 'melanerpes-carolinus',\n",
       " 'icterus-gularis',\n",
       " 'chelonia-mydas',\n",
       " 'chrysemys-picta',\n",
       " 'pantherophis-guttatus',\n",
       " 'correlophus-ciliatus',\n",
       " 'centrochelys-sulcata',\n",
       " 'pantherophis-alleghaniensis']"
      ]
     },
     "execution_count": 3,
     "metadata": {},
     "output_type": "execute_result"
    }
   ],
   "source": [
    "import json\n",
    "d = dict(json.load(open('./translation.json')))\n",
    "classes = list(d.keys())\n",
    "classes"
   ]
  },
  {
   "cell_type": "code",
   "execution_count": 4,
   "metadata": {},
   "outputs": [],
   "source": [
    "X = []\n",
    "y = []"
   ]
  },
  {
   "cell_type": "code",
   "execution_count": 8,
   "metadata": {},
   "outputs": [
    {
     "data": {
      "text/plain": [
       "'r:\\\\Online Courses, Workshops, contests, etc\\\\IEEE GTBIT ML Webinar\\\\animals_classification'"
      ]
     },
     "execution_count": 8,
     "metadata": {},
     "output_type": "execute_result"
    }
   ],
   "source": [
    "os.getcwd()"
   ]
  },
  {
   "cell_type": "code",
   "execution_count": 9,
   "metadata": {},
   "outputs": [],
   "source": [
    "loc = './dataset'\n",
    "for i in os.listdir(loc):\n",
    "    for j in os.listdir(f'{ loc }/{ i }'):\n",
    "        img = cv2.imread(f'{ loc }/{ i }/{ j }')\n",
    "        img = cv2.resize(img, (100, 100))\n",
    "        X.append(img)\n",
    "        y.append(classes.index(i))\n",
    "\n",
    "X = np.array(X)"
   ]
  },
  {
   "cell_type": "code",
   "execution_count": 10,
   "metadata": {},
   "outputs": [
    {
     "name": "stdout",
     "output_type": "stream",
     "text": [
      "(100, 100, 3)\n"
     ]
    }
   ],
   "source": [
    "#seeing a random item from dataset\n",
    "import random\n",
    "img = random.choice(X)\n",
    "cv2.imshow('Image', img)\n",
    "\n",
    "print(img.shape)\n",
    "\n",
    "cv2.waitKey(0)\n",
    "cv2.destroyAllWindows()"
   ]
  },
  {
   "cell_type": "code",
   "execution_count": 11,
   "metadata": {},
   "outputs": [],
   "source": [
    "from sklearn.model_selection import train_test_split\n",
    "\n",
    "X_train, X_test, y_train, y_test = train_test_split(X, y, test_size=1/3)"
   ]
  },
  {
   "cell_type": "code",
   "execution_count": 12,
   "metadata": {},
   "outputs": [],
   "source": [
    "#One hot encoding of labels\n",
    "y_train = np_utils.to_categorical(y_train)\n",
    "y_test = np_utils.to_categorical(y_test)"
   ]
  },
  {
   "cell_type": "code",
   "execution_count": 21,
   "metadata": {},
   "outputs": [
    {
     "ename": "FileNotFoundError",
     "evalue": "[WinError 2] The system cannot find the file specified: './save'",
     "output_type": "error",
     "traceback": [
      "\u001b[1;31m---------------------------------------------------------------------------\u001b[0m",
      "\u001b[1;31mFileNotFoundError\u001b[0m                         Traceback (most recent call last)",
      "\u001b[1;32mr:\\Online Courses, Workshops, contests, etc\\IEEE GTBIT ML Webinar\\animals_classification\\dl.ipynb Cell 10'\u001b[0m in \u001b[0;36m<module>\u001b[1;34m\u001b[0m\n\u001b[0;32m      <a href='vscode-notebook-cell:/r%3A/Online%20Courses%2C%20Workshops%2C%20contests%2C%20etc/IEEE%20GTBIT%20ML%20Webinar/animals_classification/dl.ipynb#ch0000007?line=0'>1</a>\u001b[0m cwd \u001b[39m=\u001b[39m os\u001b[39m.\u001b[39mgetcwd()\n\u001b[0;32m      <a href='vscode-notebook-cell:/r%3A/Online%20Courses%2C%20Workshops%2C%20contests%2C%20etc/IEEE%20GTBIT%20ML%20Webinar/animals_classification/dl.ipynb#ch0000007?line=1'>2</a>\u001b[0m save_loc \u001b[39m=\u001b[39m \u001b[39m'\u001b[39m\u001b[39m./save\u001b[39m\u001b[39m'\u001b[39m\n\u001b[1;32m----> <a href='vscode-notebook-cell:/r%3A/Online%20Courses%2C%20Workshops%2C%20contests%2C%20etc/IEEE%20GTBIT%20ML%20Webinar/animals_classification/dl.ipynb#ch0000007?line=2'>3</a>\u001b[0m os\u001b[39m.\u001b[39;49mchdir(save_loc)\n",
      "\u001b[1;31mFileNotFoundError\u001b[0m: [WinError 2] The system cannot find the file specified: './save'"
     ]
    }
   ],
   "source": [
    "save_loc = './save'"
   ]
  },
  {
   "cell_type": "code",
   "execution_count": 22,
   "metadata": {},
   "outputs": [],
   "source": [
    "#saving the train and test data in cwd\n",
    "np.save(f'{save_loc}/X_train.npy', X_train)\n",
    "np.save(f'{save_loc}/y_train.npy', y_train)\n",
    "np.save(f'{save_loc}/X_test.npy', X_test)\n",
    "np.save(f'{save_loc}/y_test.npy', y_test)"
   ]
  },
  {
   "cell_type": "code",
   "execution_count": 23,
   "metadata": {},
   "outputs": [],
   "source": [
    "#loading train and test data\n",
    "X_train = np.load(f'{save_loc}/X_train.npy')\n",
    "X_test = np.load(f'{save_loc}/X_test.npy')\n",
    "\n",
    "y_train = np.load(f'{save_loc}/y_train.npy')\n",
    "y_test = np.load(f'{save_loc}/y_test.npy')"
   ]
  },
  {
   "cell_type": "code",
   "execution_count": 24,
   "metadata": {},
   "outputs": [],
   "source": [
    "#to generate validation data\n",
    "X_train, X_val = train_test_split(X_train, test_size=0.33, random_state=1)\n",
    "y_train, y_val = train_test_split(y_train, test_size=0.33, random_state=1)"
   ]
  },
  {
   "cell_type": "code",
   "execution_count": 25,
   "metadata": {},
   "outputs": [],
   "source": [
    "#model generation\n",
    "#the archetecture of model\n",
    "def generate_model(shape, nClasses):\n",
    "    \n",
    "    model = Sequential()\n",
    "    \n",
    "    model.add(Conv2D(32, (7,7), input_shape=shape, activation='relu'))\n",
    "    model.add(MaxPooling2D((2,2)))\n",
    "    \n",
    "    model.add(Conv2D(8, (3,3), activation='relu'))\n",
    "    model.add(Conv2D(8, (3,3), activation='relu'))\n",
    "    model.add(MaxPooling2D((10,10)))\n",
    "    \n",
    "    model.add(Flatten())\n",
    "    \n",
    "    model.add(Dense(nClasses, activation='softmax'))\n",
    "    \n",
    "    model.compile(loss='categorical_crossentropy',  optimizer='adam', metrics=['accuracy'])\n",
    "    \n",
    "    return model"
   ]
  },
  {
   "cell_type": "code",
   "execution_count": 26,
   "metadata": {},
   "outputs": [],
   "source": [
    "#to create a model\n",
    "nClasses=len(classes)\n",
    "shape = X_train[0].shape # 100 x 100 x 3\n",
    "\n",
    "model = generate_model(shape,nClasses)"
   ]
  },
  {
   "cell_type": "code",
   "execution_count": 27,
   "metadata": {},
   "outputs": [
    {
     "name": "stdout",
     "output_type": "stream",
     "text": [
      "Model: \"sequential\"\n",
      "_________________________________________________________________\n",
      " Layer (type)                Output Shape              Param #   \n",
      "=================================================================\n",
      " conv2d (Conv2D)             (None, 94, 94, 32)        4736      \n",
      "                                                                 \n",
      " max_pooling2d (MaxPooling2D  (None, 47, 47, 32)       0         \n",
      " )                                                               \n",
      "                                                                 \n",
      " conv2d_1 (Conv2D)           (None, 45, 45, 8)         2312      \n",
      "                                                                 \n",
      " conv2d_2 (Conv2D)           (None, 43, 43, 8)         584       \n",
      "                                                                 \n",
      " max_pooling2d_1 (MaxPooling  (None, 4, 4, 8)          0         \n",
      " 2D)                                                             \n",
      "                                                                 \n",
      " flatten (Flatten)           (None, 128)               0         \n",
      "                                                                 \n",
      " dense (Dense)               (None, 151)               19479     \n",
      "                                                                 \n",
      "=================================================================\n",
      "Total params: 27,111\n",
      "Trainable params: 27,111\n",
      "Non-trainable params: 0\n",
      "_________________________________________________________________\n"
     ]
    }
   ],
   "source": [
    "#summary of the model\n",
    "model.summary()"
   ]
  },
  {
   "cell_type": "code",
   "execution_count": 33,
   "metadata": {},
   "outputs": [
    {
     "name": "stdout",
     "output_type": "stream",
     "text": [
      "Epoch 1/5\n",
      "88/88 [==============================] - 20s 229ms/step - loss: 4.9747 - accuracy: 0.0161 - val_loss: 5.0345 - val_accuracy: 0.0087\n",
      "Epoch 2/5\n",
      "88/88 [==============================] - 16s 185ms/step - loss: 4.9555 - accuracy: 0.0168 - val_loss: 5.0266 - val_accuracy: 0.0101\n",
      "Epoch 3/5\n",
      "88/88 [==============================] - 17s 192ms/step - loss: 4.9320 - accuracy: 0.0186 - val_loss: 5.0555 - val_accuracy: 0.0101\n",
      "Epoch 4/5\n",
      "88/88 [==============================] - 17s 195ms/step - loss: 4.9031 - accuracy: 0.0207 - val_loss: 5.0895 - val_accuracy: 0.0116\n",
      "Epoch 5/5\n",
      "88/88 [==============================] - 17s 195ms/step - loss: 4.8744 - accuracy: 0.0271 - val_loss: 5.1568 - val_accuracy: 0.0109\n"
     ]
    }
   ],
   "source": [
    "#training the model\n",
    "#saving the accuracy details in H\n",
    "\n",
    "nEpochs = 5\n",
    "batch_size = 32\n",
    "\n",
    "H = model.fit(X_train, y_train, validation_data=(X_val, y_val),\n",
    "              epochs=nEpochs, batch_size=batch_size)"
   ]
  },
  {
   "cell_type": "code",
   "execution_count": 34,
   "metadata": {},
   "outputs": [
    {
     "data": {
      "image/png": "[encoded data removed]",
      "text/plain": [
       "<Figure size 432x288 with 1 Axes>"
      ]
     },
     "metadata": {
      "needs_background": "light"
     },
     "output_type": "display_data"
    }
   ],
   "source": [
    "#to know if model is overfit\n",
    "#to draw a plot between accuracy and validation accuracy\n",
    "#to draw a plot between loss and validation loss\n",
    "plt.title(\"Training Loss and Accuracy\")\n",
    "plt.xlabel(\"Epoch #\")\n",
    "plt.ylabel(\"Loss/Accuracy\")\n",
    "\n",
    "plt.plot(np.arange(0, nEpochs), H.history[\"loss\"], label=\"train_loss\")\n",
    "plt.plot(np.arange(0, nEpochs), H.history[\"val_loss\"], label=\"val_loss\")\n",
    "plt.plot(np.arange(0, nEpochs), H.history[\"accuracy\"], label=\"train_acc\")\n",
    "plt.plot(np.arange(0, nEpochs), H.history[\"val_accuracy\"], label=\"val_acc\")\n",
    "plt.legend()\n",
    "\n",
    "plt.show()"
   ]
  },
  {
   "cell_type": "code",
   "execution_count": null,
   "metadata": {},
   "outputs": [],
   "source": []
  },
  {
   "cell_type": "code",
   "execution_count": 35,
   "metadata": {},
   "outputs": [],
   "source": [
    "model.save(f'{save_loc}/animals_classifier.h5')"
   ]
  },
  {
   "cell_type": "code",
   "execution_count": 36,
   "metadata": {},
   "outputs": [
    {
     "name": "stdout",
     "output_type": "stream",
     "text": [
      "66/66 [==============================] - 3s 45ms/step - loss: 5.1906 - accuracy: 0.0091\n",
      "Accuracy : 0.91\n"
     ]
    }
   ],
   "source": [
    "#to find the accuaracy of the model\n",
    "score = model.evaluate(X_test, y_test)\n",
    "print('Accuracy : {:.2f}'.format(score[1]*100))"
   ]
  },
  {
   "cell_type": "code",
   "execution_count": null,
   "metadata": {},
   "outputs": [],
   "source": [
    "cam = cv2.VideoCapture(0)\n",
    "\n",
    "font = cv2.FONT_HERSHEY_SIMPLEX \n",
    "org = (0, 40) \n",
    "fontScale = 1\n",
    "color = (0, 0, 255) \n",
    "thickness = 2"
   ]
  },
  {
   "cell_type": "code",
   "execution_count": null,
   "metadata": {},
   "outputs": [],
   "source": [
    "while True:\n",
    "    ret, img = cam.read()\n",
    "    shape = (img.shape[1], img.shape[0])\n",
    "    \n",
    "    img1 = img.copy()\n",
    "    \n",
    "    img = cv2.resize(img, (100, 100))\n",
    "    img = np.reshape(img, (1, 100, 100, 3))\n",
    "    \n",
    "    score = list(model.predict(img).tolist())[0]\n",
    "    label = classes[score.index(max(score))]\n",
    "    \n",
    "    img1 = cv2.putText(img1, label, org, font,  \n",
    "                   fontScale, color, thickness, cv2.LINE_AA)\n",
    "    \n",
    "    cv2.imshow('Camera', img1)\n",
    "    \n",
    "    k = cv2.waitKey(100)\n",
    "    if k == 27:\n",
    "        break\n",
    "        \n",
    "cam.release()\n",
    "cv2.destroyAllWindows()"
   ]
  },
  {
   "cell_type": "code",
   "execution_count": null,
   "metadata": {},
   "outputs": [],
   "source": [
    "font = cv2.FONT_HERSHEY_SIMPLEX \n",
    "org = (0, 40) \n",
    "fontScale = 1\n",
    "color = (0, 0, 255) \n",
    "thickness = 2\n",
    "n = 'test10.jpg'\n",
    "\n",
    "img = cv2.imread(n)\n",
    "\n",
    "img1 = img.copy()\n",
    "\n",
    "img = cv2.resize(img, (100, 100))\n",
    "img = np.reshape(img, (1, 100, 100, 3))\n",
    "\n",
    "score = list(model.predict(img).tolist())[0]\n",
    "label = classes[score.index(max(score))]\n",
    "\n",
    "img1 = cv2.resize(img1, (1000, 1000))\n",
    "img1 = cv2.putText(img1, label, org, font,  \n",
    "               fontScale, color, thickness, cv2.LINE_AA)\n",
    "\n",
    "cv2.imwrite(n[:-4]+'_result.jpg', img1)\n",
    "        \n",
    "\n",
    "cv2.destroyAllWindows()"
   ]
  }
 ],
 "metadata": {
  "interpreter": {
   "hash": "89b324ca5f1084c116409317b3d00b01a2c751796b962fa91a6bd72f62edc7dd"
  },
  "kernelspec": {
   "display_name": "Python 3.8.0 ('venv': venv)",
   "language": "python",
   "name": "python3"
  },
  "language_info": {
   "codemirror_mode": {
    "name": "ipython",
    "version": 3
   },
   "file_extension": ".py",
   "mimetype": "text/x-python",
   "name": "python",
   "nbconvert_exporter": "python",
   "pygments_lexer": "ipython3",
   "version": "3.8.0"
  },
  "orig_nbformat": 4
 },
 "nbformat": 4,
 "nbformat_minor": 2
}
